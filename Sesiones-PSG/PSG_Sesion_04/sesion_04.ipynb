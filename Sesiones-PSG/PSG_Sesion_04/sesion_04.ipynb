{
 "cells": [
  {
   "cell_type": "code",
   "execution_count": 7,
   "metadata": {},
   "outputs": [
    {
     "name": "stdout",
     "output_type": "stream",
     "text": [
      "hola mundo desde Notebook\n"
     ]
    }
   ],
   "source": [
    "#code 1\n",
    "print (\"hola mundo desde Notebook\")"
   ]
  },
  {
   "cell_type": "code",
   "execution_count": 13,
   "metadata": {},
   "outputs": [
    {
     "name": "stdout",
     "output_type": "stream",
     "text": [
      "   *\n",
      "  ***\n",
      " ****\n",
      "******\n",
      "*******\n",
      "  ||\n",
      "  ||\n",
      "***********\n"
     ]
    }
   ],
   "source": [
    "print(\"   *\")\n",
    "print(\"  ***\")\n",
    "print(\" ****\")\n",
    "print(\"******\")\n",
    "print(\"*******\")\n",
    "print(\"  ||\")\n",
    "print(\"  ||\")\n",
    "print(\"***********\")"
   ]
  },
  {
   "cell_type": "markdown",
   "metadata": {},
   "source": [
    "#Sesión 04\n",
    "- Primer noteBook\n",
    "- Imprimir arbol\n",
    "- Crear Markdown\n",
    "- Subir repositorio a Github\n",
    "- Dibujar un 🙂"
   ]
  }
 ],
 "metadata": {
  "kernelspec": {
   "display_name": "Python 3",
   "language": "python",
   "name": "python3"
  },
  "language_info": {
   "codemirror_mode": {
    "name": "ipython",
    "version": 3
   },
   "file_extension": ".py",
   "mimetype": "text/x-python",
   "name": "python",
   "nbconvert_exporter": "python",
   "pygments_lexer": "ipython3",
   "version": "3.12.3"
  }
 },
 "nbformat": 4,
 "nbformat_minor": 2
}
